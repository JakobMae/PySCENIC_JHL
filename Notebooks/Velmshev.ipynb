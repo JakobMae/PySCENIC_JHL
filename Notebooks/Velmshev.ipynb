{
 "cells": [
  {
   "cell_type": "code",
   "execution_count": 1,
   "id": "151b270f-d54d-4474-8ec7-928a4041b4f1",
   "metadata": {},
   "outputs": [
    {
     "data": {
      "text/plain": [
       "(65217, 104559)"
      ]
     },
     "execution_count": 1,
     "metadata": {},
     "output_type": "execute_result"
    }
   ],
   "source": [
    "import loompy\n",
    "import numpy as np\n",
    "import scanpy as sc\n",
    "import pandas as pd\n",
    "\n",
    "data_path = \"/Users/jakobmaeots/Internship/Data/\"\n",
    "D = loompy.connect(data_path + \"Velmeshev_2019_matrix.loom\")\n",
    "D.ca.keys() #cell types: D.ca[\"cluster\"]\n",
    "D.ra.keys() # genes: D.ra[\"Gene\"], ensgids: D.ra[\"ensembl_id\"]\n",
    "np.shape(D) # 65 217 genes, 104 559 cells"
   ]
  },
  {
   "cell_type": "code",
   "execution_count": 2,
   "id": "290ae2e5-78d3-4bd4-aecb-9f605816b4c8",
   "metadata": {},
   "outputs": [
    {
     "name": "stdout",
     "output_type": "stream",
     "text": [
      "Cell attributes: ['CT_ann_ABM_MCA_scmap_cell2cluster_51_CTs', 'CT_ann_score_ABM_MCA_scmap_cell2cluster_51_CTs', 'Capbatch', 'RNA Integrity Number', 'RNA mitochondr. percent', 'RNA ribosomal percent', 'Seqbatch', 'UMIs', 'age', 'batch', 'brain_region', 'cell', 'cell_id', 'cluster', 'condition', 'donor_id', 'genes', 'obs_names', 'post_mortem_interval', 'region', 'sample', 'sex', 'study_id']\n",
      "Row attributes (genes): ['Gene', 'ensembl_id', 'gene_name', 'var_names']\n",
      "Data shape: (65217, 104559)\n"
     ]
    }
   ],
   "source": [
    "# Check the keys in the cell attributes and row attributes\n",
    "print(\"Cell attributes:\", D.ca.keys())\n",
    "print(\"Row attributes (genes):\", D.ra.keys())\n",
    "\n",
    "# Check the shape of the data\n",
    "print(\"Data shape:\", np.shape(D))"
   ]
  },
  {
   "cell_type": "code",
   "execution_count": 3,
   "id": "b9509d32-1a6d-4bb5-89fe-71b030e76803",
   "metadata": {},
   "outputs": [],
   "source": [
    "sc.settings.set_figure_params(dpi=50, facecolor=\"white\")"
   ]
  },
  {
   "cell_type": "code",
   "execution_count": 3,
   "id": "41870675-00be-4314-a0d3-6aa9aa233efa",
   "metadata": {},
   "outputs": [
    {
     "ename": "ValueError",
     "evalue": "Row attribute 'Regulons' dtype [('ALX3_(+)', '<i8'), ('AR_(+)', '<i8'), ('ARID3A_(+)', '<i8'), ('ARNT2_(+)', '<i8'), ('ATF3_(+)', '<i8'), ('ATF4_(+)', '<i8'), ('BACH1_(+)', '<i8'), ('BCL6_(+)', '<i8'), ('BHLHE22_(+)', '<i8'), ('BPTF_(+)', '<i8'), ('CEBPA_(+)', '<i8'), ('CEBPB_(+)', '<i8'), ('CEBPG_(+)', '<i8'), ('CEBPZ_(+)', '<i8'), ('CREB3_(+)', '<i8'), ('CUX1_(+)', '<i8'), ('DBP_(+)', '<i8'), ('DDIT3_(+)', '<i8'), ('DLX1_(+)', '<i8'), ('DLX2_(+)', '<i8'), ('DRAP1_(+)', '<i8'), ('E2F3_(+)', '<i8'), ('ELF1_(+)', '<i8'), ('ELF2_(+)', '<i8'), ('ELK1_(+)', '<i8'), ('ELK4_(+)', '<i8'), ('ESRRA_(+)', '<i8'), ('ESRRG_(+)', '<i8'), ('ETS1_(+)', '<i8'), ('ETS2_(+)', '<i8'), ('ETV5_(+)', '<i8'), ('FLI1_(+)', '<i8'), ('FOS_(+)', '<i8'), ('FOSB_(+)', '<i8'), ('FOSL2_(+)', '<i8'), ('FOXG1_(+)', '<i8'), ('FOXO1_(+)', '<i8'), ('GABPA_(+)', '<i8'), ('GABPB1_(+)', '<i8'), ('GATAD1_(+)', '<i8'), ('GLIS3_(+)', '<i8'), ('GZF1_(+)', '<i8'), ('HCFC1_(+)', '<i8'), ('HES1_(+)', '<i8'), ('HLTF_(+)', '<i8'), ('HMGA1_(+)', '<i8'), ('HMGA2_(+)', '<i8'), ('HNF1A_(+)', '<i8'), ('HNF4A_(+)', '<i8'), ('HNF4G_(+)', '<i8'), ('IKZF1_(+)', '<i8'), ('IKZF2_(+)', '<i8'), ('IRF8_(+)', '<i8'), ('JUN_(+)', '<i8'), ('JUNB_(+)', '<i8'), ('JUND_(+)', '<i8'), ('KLF10_(+)', '<i8'), ('KLF12_(+)', '<i8'), ('KLF4_(+)', '<i8'), ('LEF1_(+)', '<i8'), ('MAFB_(+)', '<i8'), ('MAFK_(+)', '<i8'), ('MAX_(+)', '<i8'), ('MEIS1_(+)', '<i8'), ('MGA_(+)', '<i8'), ('MITF_(+)', '<i8'), ('MTF2_(+)', '<i8'), ('NFATC1_(+)', '<i8'), ('NFATC2_(+)', '<i8'), ('NFE2L1_(+)', '<i8'), ('NFIA_(+)', '<i8'), ('NFIB_(+)', '<i8'), ('NFIC_(+)', '<i8'), ('NFIL3_(+)', '<i8'), ('NFYA_(+)', '<i8'), ('NFYB_(+)', '<i8'), ('NKX6-2_(+)', '<i8'), ('NR1D1_(+)', '<i8'), ('NR2C2_(+)', '<i8'), ('NR2F1_(+)', '<i8'), ('NR2F2_(+)', '<i8'), ('NR3C1_(+)', '<i8'), ('NRF1_(+)', '<i8'), ('OVOL2_(+)', '<i8'), ('PAX7_(+)', '<i8'), ('PDLIM5_(+)', '<i8'), ('PGR_(+)', '<i8'), ('PLAGL1_(+)', '<i8'), ('POU2F1_(+)', '<i8'), ('POU3F1_(+)', '<i8'), ('PRRX2_(+)', '<i8'), ('PURA_(+)', '<i8'), ('RAD21_(+)', '<i8'), ('RARA_(+)', '<i8'), ('RARB_(+)', '<i8'), ('RARG_(+)', '<i8'), ('RFX2_(+)', '<i8'), ('RFX4_(+)', '<i8'), ('RFX5_(+)', '<i8'), ('RFXANK_(+)', '<i8'), ('RFXAP_(+)', '<i8'), ('RXRA_(+)', '<i8'), ('RXRB_(+)', '<i8'), ('RXRG_(+)', '<i8'), ('SALL3_(+)', '<i8'), ('SATB2_(+)', '<i8'), ('SOX10_(+)', '<i8'), ('SOX15_(+)', '<i8'), ('SOX6_(+)', '<i8'), ('SOX7_(+)', '<i8'), ('SOX8_(+)', '<i8'), ('SOX9_(+)', '<i8'), ('SP8_(+)', '<i8'), ('SPI1_(+)', '<i8'), ('SREBF1_(+)', '<i8'), ('SREBF2_(+)', '<i8'), ('SRF_(+)', '<i8'), ('STAT1_(+)', '<i8'), ('STAT5A_(+)', '<i8'), ('TAF6_(+)', '<i8'), ('TAL1_(+)', '<i8'), ('TBP_(+)', '<i8'), ('TBX18_(+)', '<i8'), ('TBX2_(+)', '<i8'), ('TCF12_(+)', '<i8'), ('TCF3_(+)', '<i8'), ('TCF7L1_(+)', '<i8'), ('TCF7L2_(+)', '<i8'), ('TEAD1_(+)', '<i8'), ('TEAD4_(+)', '<i8'), ('TFEB_(+)', '<i8'), ('THAP1_(+)', '<i8'), ('THRB_(+)', '<i8'), ('VAX2_(+)', '<i8'), ('WRNIP1_(+)', '<i8'), ('YY1_(+)', '<i8'), ('ZBTB21_(+)', '<i8'), ('ZBTB7A_(+)', '<i8'), ('ZFP37_(+)', '<i8'), ('ZIC1_(+)', '<i8'), ('ZNF114_(+)', '<i8'), ('ZNF133_(+)', '<i8'), ('ZNF143_(+)', '<i8'), ('ZNF175_(+)', '<i8'), ('ZNF394_(+)', '<i8'), ('ZNF396_(+)', '<i8'), ('ZNF415_(+)', '<i8'), ('ZNF44_(+)', '<i8'), ('ZNF571_(+)', '<i8'), ('ZNF582_(+)', '<i8'), ('ZNF613_(+)', '<i8'), ('ZNF672_(+)', '<i8'), ('ZNF777_(+)', '<i8'), ('ZNF85_(+)', '<i8'), ('ZSCAN1_(+)', '<i8'), ('ZSCAN21_(+)', '<i8'), ('ZSCAN31_(+)', '<i8')] is not allowed\nColumn attribute 'Clusterings' dtype [('0', '<i8')] is not allowed\nColumn attribute 'Embedding' dtype [('_X', '<f8'), ('_Y', '<f8')] is not allowed\nColumn attribute 'Embeddings_X' dtype [('1', '<f4'), ('2', '<f4'), ('3', '<f8'), ('4', '<f8')] is not allowed\nColumn attribute 'Embeddings_Y' dtype [('1', '<f4'), ('2', '<f4'), ('3', '<f8'), ('4', '<f8')] is not allowed\nColumn attribute 'RegulonsAUC' dtype [('ALX3(+)', '<f8'), ('AR(+)', '<f8'), ('ARID3A(+)', '<f8'), ('ARNT2(+)', '<f8'), ('ATF3(+)', '<f8'), ('ATF4(+)', '<f8'), ('BACH1(+)', '<f8'), ('BCL6(+)', '<f8'), ('BHLHE22(+)', '<f8'), ('BPTF(+)', '<f8'), ('CEBPA(+)', '<f8'), ('CEBPB(+)', '<f8'), ('CEBPG(+)', '<f8'), ('CEBPZ(+)', '<f8'), ('CREB3(+)', '<f8'), ('CUX1(+)', '<f8'), ('DBP(+)', '<f8'), ('DDIT3(+)', '<f8'), ('DLX1(+)', '<f8'), ('DLX2(+)', '<f8'), ('DRAP1(+)', '<f8'), ('E2F3(+)', '<f8'), ('ELF1(+)', '<f8'), ('ELF2(+)', '<f8'), ('ELK1(+)', '<f8'), ('ELK4(+)', '<f8'), ('ESRRA(+)', '<f8'), ('ESRRG(+)', '<f8'), ('ETS1(+)', '<f8'), ('ETS2(+)', '<f8'), ('ETV5(+)', '<f8'), ('FLI1(+)', '<f8'), ('FOS(+)', '<f8'), ('FOSB(+)', '<f8'), ('FOSL2(+)', '<f8'), ('FOXG1(+)', '<f8'), ('FOXO1(+)', '<f8'), ('GABPA(+)', '<f8'), ('GABPB1(+)', '<f8'), ('GATAD1(+)', '<f8'), ('GLIS3(+)', '<f8'), ('GZF1(+)', '<f8'), ('HCFC1(+)', '<f8'), ('HES1(+)', '<f8'), ('HLTF(+)', '<f8'), ('HMGA1(+)', '<f8'), ('HMGA2(+)', '<f8'), ('HNF1A(+)', '<f8'), ('HNF4A(+)', '<f8'), ('HNF4G(+)', '<f8'), ('IKZF1(+)', '<f8'), ('IKZF2(+)', '<f8'), ('IRF8(+)', '<f8'), ('JUN(+)', '<f8'), ('JUNB(+)', '<f8'), ('JUND(+)', '<f8'), ('KLF10(+)', '<f8'), ('KLF12(+)', '<f8'), ('KLF4(+)', '<f8'), ('LEF1(+)', '<f8'), ('MAFB(+)', '<f8'), ('MAFK(+)', '<f8'), ('MAX(+)', '<f8'), ('MEIS1(+)', '<f8'), ('MGA(+)', '<f8'), ('MITF(+)', '<f8'), ('MTF2(+)', '<f8'), ('NFATC1(+)', '<f8'), ('NFATC2(+)', '<f8'), ('NFE2L1(+)', '<f8'), ('NFIA(+)', '<f8'), ('NFIB(+)', '<f8'), ('NFIC(+)', '<f8'), ('NFIL3(+)', '<f8'), ('NFYA(+)', '<f8'), ('NFYB(+)', '<f8'), ('NKX6-2(+)', '<f8'), ('NR1D1(+)', '<f8'), ('NR2C2(+)', '<f8'), ('NR2F1(+)', '<f8'), ('NR2F2(+)', '<f8'), ('NR3C1(+)', '<f8'), ('NRF1(+)', '<f8'), ('OVOL2(+)', '<f8'), ('PAX7(+)', '<f8'), ('PDLIM5(+)', '<f8'), ('PGR(+)', '<f8'), ('PLAGL1(+)', '<f8'), ('POU2F1(+)', '<f8'), ('POU3F1(+)', '<f8'), ('PRRX2(+)', '<f8'), ('PURA(+)', '<f8'), ('RAD21(+)', '<f8'), ('RARA(+)', '<f8'), ('RARB(+)', '<f8'), ('RARG(+)', '<f8'), ('RFX2(+)', '<f8'), ('RFX4(+)', '<f8'), ('RFX5(+)', '<f8'), ('RFXANK(+)', '<f8'), ('RFXAP(+)', '<f8'), ('RXRA(+)', '<f8'), ('RXRB(+)', '<f8'), ('RXRG(+)', '<f8'), ('SALL3(+)', '<f8'), ('SATB2(+)', '<f8'), ('SOX10(+)', '<f8'), ('SOX15(+)', '<f8'), ('SOX6(+)', '<f8'), ('SOX7(+)', '<f8'), ('SOX8(+)', '<f8'), ('SOX9(+)', '<f8'), ('SP8(+)', '<f8'), ('SPI1(+)', '<f8'), ('SREBF1(+)', '<f8'), ('SREBF2(+)', '<f8'), ('SRF(+)', '<f8'), ('STAT1(+)', '<f8'), ('STAT5A(+)', '<f8'), ('TAF6(+)', '<f8'), ('TAL1(+)', '<f8'), ('TBP(+)', '<f8'), ('TBX18(+)', '<f8'), ('TBX2(+)', '<f8'), ('TCF12(+)', '<f8'), ('TCF3(+)', '<f8'), ('TCF7L1(+)', '<f8'), ('TCF7L2(+)', '<f8'), ('TEAD1(+)', '<f8'), ('TEAD4(+)', '<f8'), ('TFEB(+)', '<f8'), ('THAP1(+)', '<f8'), ('THRB(+)', '<f8'), ('VAX2(+)', '<f8'), ('WRNIP1(+)', '<f8'), ('YY1(+)', '<f8'), ('ZBTB21(+)', '<f8'), ('ZBTB7A(+)', '<f8'), ('ZFP37(+)', '<f8'), ('ZIC1(+)', '<f8'), ('ZNF114(+)', '<f8'), ('ZNF133(+)', '<f8'), ('ZNF143(+)', '<f8'), ('ZNF175(+)', '<f8'), ('ZNF394(+)', '<f8'), ('ZNF396(+)', '<f8'), ('ZNF415(+)', '<f8'), ('ZNF44(+)', '<f8'), ('ZNF571(+)', '<f8'), ('ZNF582(+)', '<f8'), ('ZNF613(+)', '<f8'), ('ZNF672(+)', '<f8'), ('ZNF777(+)', '<f8'), ('ZNF85(+)', '<f8'), ('ZSCAN1(+)', '<f8'), ('ZSCAN21(+)', '<f8'), ('ZSCAN31(+)', '<f8')] is not allowed\nFor help, see http://linnarssonlab.org/loompy/format/\n/Users/jakobmaeots/Internship/Data/Velmeshev/Velmeshev_1CTRL_integrated-output.loom does not appead to be a valid Loom file according to Loom spec version '3.0.0'",
     "output_type": "error",
     "traceback": [
      "\u001b[0;31m---------------------------------------------------------------------------\u001b[0m",
      "\u001b[0;31mValueError\u001b[0m                                Traceback (most recent call last)",
      "Cell \u001b[0;32mIn[3], line 5\u001b[0m\n\u001b[1;32m      3\u001b[0m \u001b[38;5;66;03m# Load the loom file\u001b[39;00m\n\u001b[1;32m      4\u001b[0m loom_file_path \u001b[38;5;241m=\u001b[39m \u001b[38;5;124m'\u001b[39m\u001b[38;5;124m/Users/jakobmaeots/Internship/Data/Velmeshev/Velmeshev_1CTRL_integrated-output.loom\u001b[39m\u001b[38;5;124m'\u001b[39m\n\u001b[0;32m----> 5\u001b[0m loom_data \u001b[38;5;241m=\u001b[39m \u001b[43mlp\u001b[49m\u001b[38;5;241;43m.\u001b[39;49m\u001b[43mconnect\u001b[49m\u001b[43m(\u001b[49m\u001b[43mloom_file_path\u001b[49m\u001b[43m)\u001b[49m\n\u001b[1;32m      7\u001b[0m \u001b[38;5;66;03m# Display general information about the loom file\u001b[39;00m\n\u001b[1;32m      8\u001b[0m \u001b[38;5;28mprint\u001b[39m(\u001b[38;5;124m\"\u001b[39m\u001b[38;5;124mLoom file shape:\u001b[39m\u001b[38;5;124m\"\u001b[39m, loom_data\u001b[38;5;241m.\u001b[39mshape)\n",
      "File \u001b[0;32m/opt/anaconda3/envs/scenic_env_py310/lib/python3.10/site-packages/loompy/loompy.py:1389\u001b[0m, in \u001b[0;36mconnect\u001b[0;34m(filename, mode, validate, spec_version)\u001b[0m\n\u001b[1;32m   1363\u001b[0m \u001b[38;5;28;01mdef\u001b[39;00m\u001b[38;5;250m \u001b[39m\u001b[38;5;21mconnect\u001b[39m(filename: \u001b[38;5;28mstr\u001b[39m, mode: \u001b[38;5;28mstr\u001b[39m \u001b[38;5;241m=\u001b[39m \u001b[38;5;124m'\u001b[39m\u001b[38;5;124mr+\u001b[39m\u001b[38;5;124m'\u001b[39m, \u001b[38;5;241m*\u001b[39m, validate: \u001b[38;5;28mbool\u001b[39m \u001b[38;5;241m=\u001b[39m \u001b[38;5;28;01mTrue\u001b[39;00m, spec_version: \u001b[38;5;28mstr\u001b[39m \u001b[38;5;241m=\u001b[39m \u001b[38;5;124m\"\u001b[39m\u001b[38;5;124m3.0.0\u001b[39m\u001b[38;5;124m\"\u001b[39m) \u001b[38;5;241m-\u001b[39m\u001b[38;5;241m>\u001b[39m LoomConnection:\n\u001b[1;32m   1364\u001b[0m \u001b[38;5;250m\t\u001b[39m\u001b[38;5;124;03m\"\"\"\u001b[39;00m\n\u001b[1;32m   1365\u001b[0m \u001b[38;5;124;03m\tEstablish a connection to a .loom file.\u001b[39;00m\n\u001b[1;32m   1366\u001b[0m \n\u001b[0;32m   (...)\u001b[0m\n\u001b[1;32m   1387\u001b[0m \u001b[38;5;124;03m\t\tNote: if validation is requested, an exception is raised if validation fails.\u001b[39;00m\n\u001b[1;32m   1388\u001b[0m \u001b[38;5;124;03m\t\"\"\"\u001b[39;00m\n\u001b[0;32m-> 1389\u001b[0m \t\u001b[38;5;28;01mreturn\u001b[39;00m \u001b[43mLoomConnection\u001b[49m\u001b[43m(\u001b[49m\u001b[43mfilename\u001b[49m\u001b[43m,\u001b[49m\u001b[43m \u001b[49m\u001b[43mmode\u001b[49m\u001b[43m,\u001b[49m\u001b[43m \u001b[49m\u001b[43mvalidate\u001b[49m\u001b[38;5;241;43m=\u001b[39;49m\u001b[43mvalidate\u001b[49m\u001b[43m)\u001b[49m\n",
      "File \u001b[0;32m/opt/anaconda3/envs/scenic_env_py310/lib/python3.10/site-packages/loompy/loompy.py:82\u001b[0m, in \u001b[0;36mLoomConnection.__init__\u001b[0;34m(self, filename, mode, validate)\u001b[0m\n\u001b[1;32m     80\u001b[0m \tlv \u001b[38;5;241m=\u001b[39m loompy\u001b[38;5;241m.\u001b[39mLoomValidator()\n\u001b[1;32m     81\u001b[0m \t\u001b[38;5;28;01mif\u001b[39;00m \u001b[38;5;129;01mnot\u001b[39;00m lv\u001b[38;5;241m.\u001b[39mvalidate(filename):\n\u001b[0;32m---> 82\u001b[0m \t\t\u001b[38;5;28;01mraise\u001b[39;00m \u001b[38;5;167;01mValueError\u001b[39;00m(\u001b[38;5;124m\"\u001b[39m\u001b[38;5;130;01m\\n\u001b[39;00m\u001b[38;5;124m\"\u001b[39m\u001b[38;5;241m.\u001b[39mjoin(lv\u001b[38;5;241m.\u001b[39merrors) \u001b[38;5;241m+\u001b[39m \u001b[38;5;124mf\u001b[39m\u001b[38;5;124m\"\u001b[39m\u001b[38;5;130;01m\\n\u001b[39;00m\u001b[38;5;132;01m{\u001b[39;00mfilename\u001b[38;5;132;01m}\u001b[39;00m\u001b[38;5;124m does not appead to be a valid Loom file according to Loom spec version \u001b[39m\u001b[38;5;124m'\u001b[39m\u001b[38;5;132;01m{\u001b[39;00mlv\u001b[38;5;241m.\u001b[39mversion\u001b[38;5;132;01m}\u001b[39;00m\u001b[38;5;124m'\u001b[39m\u001b[38;5;124m\"\u001b[39m)\n\u001b[1;32m     84\u001b[0m \u001b[38;5;28mself\u001b[39m\u001b[38;5;241m.\u001b[39m_file \u001b[38;5;241m=\u001b[39m h5py\u001b[38;5;241m.\u001b[39mFile(filename, mode)\n\u001b[1;32m     85\u001b[0m \u001b[38;5;28mself\u001b[39m\u001b[38;5;241m.\u001b[39m_closed \u001b[38;5;241m=\u001b[39m \u001b[38;5;28;01mFalse\u001b[39;00m\n",
      "\u001b[0;31mValueError\u001b[0m: Row attribute 'Regulons' dtype [('ALX3_(+)', '<i8'), ('AR_(+)', '<i8'), ('ARID3A_(+)', '<i8'), ('ARNT2_(+)', '<i8'), ('ATF3_(+)', '<i8'), ('ATF4_(+)', '<i8'), ('BACH1_(+)', '<i8'), ('BCL6_(+)', '<i8'), ('BHLHE22_(+)', '<i8'), ('BPTF_(+)', '<i8'), ('CEBPA_(+)', '<i8'), ('CEBPB_(+)', '<i8'), ('CEBPG_(+)', '<i8'), ('CEBPZ_(+)', '<i8'), ('CREB3_(+)', '<i8'), ('CUX1_(+)', '<i8'), ('DBP_(+)', '<i8'), ('DDIT3_(+)', '<i8'), ('DLX1_(+)', '<i8'), ('DLX2_(+)', '<i8'), ('DRAP1_(+)', '<i8'), ('E2F3_(+)', '<i8'), ('ELF1_(+)', '<i8'), ('ELF2_(+)', '<i8'), ('ELK1_(+)', '<i8'), ('ELK4_(+)', '<i8'), ('ESRRA_(+)', '<i8'), ('ESRRG_(+)', '<i8'), ('ETS1_(+)', '<i8'), ('ETS2_(+)', '<i8'), ('ETV5_(+)', '<i8'), ('FLI1_(+)', '<i8'), ('FOS_(+)', '<i8'), ('FOSB_(+)', '<i8'), ('FOSL2_(+)', '<i8'), ('FOXG1_(+)', '<i8'), ('FOXO1_(+)', '<i8'), ('GABPA_(+)', '<i8'), ('GABPB1_(+)', '<i8'), ('GATAD1_(+)', '<i8'), ('GLIS3_(+)', '<i8'), ('GZF1_(+)', '<i8'), ('HCFC1_(+)', '<i8'), ('HES1_(+)', '<i8'), ('HLTF_(+)', '<i8'), ('HMGA1_(+)', '<i8'), ('HMGA2_(+)', '<i8'), ('HNF1A_(+)', '<i8'), ('HNF4A_(+)', '<i8'), ('HNF4G_(+)', '<i8'), ('IKZF1_(+)', '<i8'), ('IKZF2_(+)', '<i8'), ('IRF8_(+)', '<i8'), ('JUN_(+)', '<i8'), ('JUNB_(+)', '<i8'), ('JUND_(+)', '<i8'), ('KLF10_(+)', '<i8'), ('KLF12_(+)', '<i8'), ('KLF4_(+)', '<i8'), ('LEF1_(+)', '<i8'), ('MAFB_(+)', '<i8'), ('MAFK_(+)', '<i8'), ('MAX_(+)', '<i8'), ('MEIS1_(+)', '<i8'), ('MGA_(+)', '<i8'), ('MITF_(+)', '<i8'), ('MTF2_(+)', '<i8'), ('NFATC1_(+)', '<i8'), ('NFATC2_(+)', '<i8'), ('NFE2L1_(+)', '<i8'), ('NFIA_(+)', '<i8'), ('NFIB_(+)', '<i8'), ('NFIC_(+)', '<i8'), ('NFIL3_(+)', '<i8'), ('NFYA_(+)', '<i8'), ('NFYB_(+)', '<i8'), ('NKX6-2_(+)', '<i8'), ('NR1D1_(+)', '<i8'), ('NR2C2_(+)', '<i8'), ('NR2F1_(+)', '<i8'), ('NR2F2_(+)', '<i8'), ('NR3C1_(+)', '<i8'), ('NRF1_(+)', '<i8'), ('OVOL2_(+)', '<i8'), ('PAX7_(+)', '<i8'), ('PDLIM5_(+)', '<i8'), ('PGR_(+)', '<i8'), ('PLAGL1_(+)', '<i8'), ('POU2F1_(+)', '<i8'), ('POU3F1_(+)', '<i8'), ('PRRX2_(+)', '<i8'), ('PURA_(+)', '<i8'), ('RAD21_(+)', '<i8'), ('RARA_(+)', '<i8'), ('RARB_(+)', '<i8'), ('RARG_(+)', '<i8'), ('RFX2_(+)', '<i8'), ('RFX4_(+)', '<i8'), ('RFX5_(+)', '<i8'), ('RFXANK_(+)', '<i8'), ('RFXAP_(+)', '<i8'), ('RXRA_(+)', '<i8'), ('RXRB_(+)', '<i8'), ('RXRG_(+)', '<i8'), ('SALL3_(+)', '<i8'), ('SATB2_(+)', '<i8'), ('SOX10_(+)', '<i8'), ('SOX15_(+)', '<i8'), ('SOX6_(+)', '<i8'), ('SOX7_(+)', '<i8'), ('SOX8_(+)', '<i8'), ('SOX9_(+)', '<i8'), ('SP8_(+)', '<i8'), ('SPI1_(+)', '<i8'), ('SREBF1_(+)', '<i8'), ('SREBF2_(+)', '<i8'), ('SRF_(+)', '<i8'), ('STAT1_(+)', '<i8'), ('STAT5A_(+)', '<i8'), ('TAF6_(+)', '<i8'), ('TAL1_(+)', '<i8'), ('TBP_(+)', '<i8'), ('TBX18_(+)', '<i8'), ('TBX2_(+)', '<i8'), ('TCF12_(+)', '<i8'), ('TCF3_(+)', '<i8'), ('TCF7L1_(+)', '<i8'), ('TCF7L2_(+)', '<i8'), ('TEAD1_(+)', '<i8'), ('TEAD4_(+)', '<i8'), ('TFEB_(+)', '<i8'), ('THAP1_(+)', '<i8'), ('THRB_(+)', '<i8'), ('VAX2_(+)', '<i8'), ('WRNIP1_(+)', '<i8'), ('YY1_(+)', '<i8'), ('ZBTB21_(+)', '<i8'), ('ZBTB7A_(+)', '<i8'), ('ZFP37_(+)', '<i8'), ('ZIC1_(+)', '<i8'), ('ZNF114_(+)', '<i8'), ('ZNF133_(+)', '<i8'), ('ZNF143_(+)', '<i8'), ('ZNF175_(+)', '<i8'), ('ZNF394_(+)', '<i8'), ('ZNF396_(+)', '<i8'), ('ZNF415_(+)', '<i8'), ('ZNF44_(+)', '<i8'), ('ZNF571_(+)', '<i8'), ('ZNF582_(+)', '<i8'), ('ZNF613_(+)', '<i8'), ('ZNF672_(+)', '<i8'), ('ZNF777_(+)', '<i8'), ('ZNF85_(+)', '<i8'), ('ZSCAN1_(+)', '<i8'), ('ZSCAN21_(+)', '<i8'), ('ZSCAN31_(+)', '<i8')] is not allowed\nColumn attribute 'Clusterings' dtype [('0', '<i8')] is not allowed\nColumn attribute 'Embedding' dtype [('_X', '<f8'), ('_Y', '<f8')] is not allowed\nColumn attribute 'Embeddings_X' dtype [('1', '<f4'), ('2', '<f4'), ('3', '<f8'), ('4', '<f8')] is not allowed\nColumn attribute 'Embeddings_Y' dtype [('1', '<f4'), ('2', '<f4'), ('3', '<f8'), ('4', '<f8')] is not allowed\nColumn attribute 'RegulonsAUC' dtype [('ALX3(+)', '<f8'), ('AR(+)', '<f8'), ('ARID3A(+)', '<f8'), ('ARNT2(+)', '<f8'), ('ATF3(+)', '<f8'), ('ATF4(+)', '<f8'), ('BACH1(+)', '<f8'), ('BCL6(+)', '<f8'), ('BHLHE22(+)', '<f8'), ('BPTF(+)', '<f8'), ('CEBPA(+)', '<f8'), ('CEBPB(+)', '<f8'), ('CEBPG(+)', '<f8'), ('CEBPZ(+)', '<f8'), ('CREB3(+)', '<f8'), ('CUX1(+)', '<f8'), ('DBP(+)', '<f8'), ('DDIT3(+)', '<f8'), ('DLX1(+)', '<f8'), ('DLX2(+)', '<f8'), ('DRAP1(+)', '<f8'), ('E2F3(+)', '<f8'), ('ELF1(+)', '<f8'), ('ELF2(+)', '<f8'), ('ELK1(+)', '<f8'), ('ELK4(+)', '<f8'), ('ESRRA(+)', '<f8'), ('ESRRG(+)', '<f8'), ('ETS1(+)', '<f8'), ('ETS2(+)', '<f8'), ('ETV5(+)', '<f8'), ('FLI1(+)', '<f8'), ('FOS(+)', '<f8'), ('FOSB(+)', '<f8'), ('FOSL2(+)', '<f8'), ('FOXG1(+)', '<f8'), ('FOXO1(+)', '<f8'), ('GABPA(+)', '<f8'), ('GABPB1(+)', '<f8'), ('GATAD1(+)', '<f8'), ('GLIS3(+)', '<f8'), ('GZF1(+)', '<f8'), ('HCFC1(+)', '<f8'), ('HES1(+)', '<f8'), ('HLTF(+)', '<f8'), ('HMGA1(+)', '<f8'), ('HMGA2(+)', '<f8'), ('HNF1A(+)', '<f8'), ('HNF4A(+)', '<f8'), ('HNF4G(+)', '<f8'), ('IKZF1(+)', '<f8'), ('IKZF2(+)', '<f8'), ('IRF8(+)', '<f8'), ('JUN(+)', '<f8'), ('JUNB(+)', '<f8'), ('JUND(+)', '<f8'), ('KLF10(+)', '<f8'), ('KLF12(+)', '<f8'), ('KLF4(+)', '<f8'), ('LEF1(+)', '<f8'), ('MAFB(+)', '<f8'), ('MAFK(+)', '<f8'), ('MAX(+)', '<f8'), ('MEIS1(+)', '<f8'), ('MGA(+)', '<f8'), ('MITF(+)', '<f8'), ('MTF2(+)', '<f8'), ('NFATC1(+)', '<f8'), ('NFATC2(+)', '<f8'), ('NFE2L1(+)', '<f8'), ('NFIA(+)', '<f8'), ('NFIB(+)', '<f8'), ('NFIC(+)', '<f8'), ('NFIL3(+)', '<f8'), ('NFYA(+)', '<f8'), ('NFYB(+)', '<f8'), ('NKX6-2(+)', '<f8'), ('NR1D1(+)', '<f8'), ('NR2C2(+)', '<f8'), ('NR2F1(+)', '<f8'), ('NR2F2(+)', '<f8'), ('NR3C1(+)', '<f8'), ('NRF1(+)', '<f8'), ('OVOL2(+)', '<f8'), ('PAX7(+)', '<f8'), ('PDLIM5(+)', '<f8'), ('PGR(+)', '<f8'), ('PLAGL1(+)', '<f8'), ('POU2F1(+)', '<f8'), ('POU3F1(+)', '<f8'), ('PRRX2(+)', '<f8'), ('PURA(+)', '<f8'), ('RAD21(+)', '<f8'), ('RARA(+)', '<f8'), ('RARB(+)', '<f8'), ('RARG(+)', '<f8'), ('RFX2(+)', '<f8'), ('RFX4(+)', '<f8'), ('RFX5(+)', '<f8'), ('RFXANK(+)', '<f8'), ('RFXAP(+)', '<f8'), ('RXRA(+)', '<f8'), ('RXRB(+)', '<f8'), ('RXRG(+)', '<f8'), ('SALL3(+)', '<f8'), ('SATB2(+)', '<f8'), ('SOX10(+)', '<f8'), ('SOX15(+)', '<f8'), ('SOX6(+)', '<f8'), ('SOX7(+)', '<f8'), ('SOX8(+)', '<f8'), ('SOX9(+)', '<f8'), ('SP8(+)', '<f8'), ('SPI1(+)', '<f8'), ('SREBF1(+)', '<f8'), ('SREBF2(+)', '<f8'), ('SRF(+)', '<f8'), ('STAT1(+)', '<f8'), ('STAT5A(+)', '<f8'), ('TAF6(+)', '<f8'), ('TAL1(+)', '<f8'), ('TBP(+)', '<f8'), ('TBX18(+)', '<f8'), ('TBX2(+)', '<f8'), ('TCF12(+)', '<f8'), ('TCF3(+)', '<f8'), ('TCF7L1(+)', '<f8'), ('TCF7L2(+)', '<f8'), ('TEAD1(+)', '<f8'), ('TEAD4(+)', '<f8'), ('TFEB(+)', '<f8'), ('THAP1(+)', '<f8'), ('THRB(+)', '<f8'), ('VAX2(+)', '<f8'), ('WRNIP1(+)', '<f8'), ('YY1(+)', '<f8'), ('ZBTB21(+)', '<f8'), ('ZBTB7A(+)', '<f8'), ('ZFP37(+)', '<f8'), ('ZIC1(+)', '<f8'), ('ZNF114(+)', '<f8'), ('ZNF133(+)', '<f8'), ('ZNF143(+)', '<f8'), ('ZNF175(+)', '<f8'), ('ZNF394(+)', '<f8'), ('ZNF396(+)', '<f8'), ('ZNF415(+)', '<f8'), ('ZNF44(+)', '<f8'), ('ZNF571(+)', '<f8'), ('ZNF582(+)', '<f8'), ('ZNF613(+)', '<f8'), ('ZNF672(+)', '<f8'), ('ZNF777(+)', '<f8'), ('ZNF85(+)', '<f8'), ('ZSCAN1(+)', '<f8'), ('ZSCAN21(+)', '<f8'), ('ZSCAN31(+)', '<f8')] is not allowed\nFor help, see http://linnarssonlab.org/loompy/format/\n/Users/jakobmaeots/Internship/Data/Velmeshev/Velmeshev_1CTRL_integrated-output.loom does not appead to be a valid Loom file according to Loom spec version '3.0.0'"
     ]
    }
   ],
   "source": [
    "import loompy as lp\n",
    "\n",
    "# Load the loom file\n",
    "loom_file_path = '/Users/jakobmaeots/Internship/Data/Velmeshev/Velmeshev_1CTRL_integrated-output.loom'\n",
    "loom_data = lp.connect(loom_file_path)\n",
    "\n",
    "# Display general information about the loom file\n",
    "print(\"Loom file shape:\", loom_data.shape)\n",
    "print(\"Number of cells:\", loom_data.ncells)\n",
    "print(\"Number of genes:\", loom_data.ngenes)\n",
    "\n",
    "# Display column attributes (e.g., cell metadata)\n",
    "print(\"\\nCell attributes (columns):\")\n",
    "print(loom_data.ca)\n",
    "\n",
    "# Display row attributes (e.g., gene metadata)\n",
    "print(\"\\nGene attributes (rows):\")\n",
    "print(loom_data.ra)\n",
    "\n",
    "# Display the first few rows of the expression matrix\n",
    "print(\"\\nExpression matrix preview:\")\n",
    "print(loom_data[:5, :5])\n",
    "\n",
    "# Display available layers (if any)\n",
    "print(\"\\nAvailable layers:\")\n",
    "print(loom_data.layers)\n",
    "\n",
    "# Display global attributes (if any)\n",
    "print(\"\\nGlobal attributes:\")\n",
    "print(loom_data.attrs)\n"
   ]
  },
  {
   "cell_type": "code",
   "execution_count": null,
   "id": "33253c3c-11e1-47af-a6e3-7673d4497eb1",
   "metadata": {},
   "outputs": [],
   "source": []
  }
 ],
 "metadata": {
  "kernelspec": {
   "display_name": "Python (scenic_env_310)",
   "language": "python",
   "name": "scenic_env"
  },
  "language_info": {
   "codemirror_mode": {
    "name": "ipython",
    "version": 3
   },
   "file_extension": ".py",
   "mimetype": "text/x-python",
   "name": "python",
   "nbconvert_exporter": "python",
   "pygments_lexer": "ipython3",
   "version": "3.10.13"
  }
 },
 "nbformat": 4,
 "nbformat_minor": 5
}
