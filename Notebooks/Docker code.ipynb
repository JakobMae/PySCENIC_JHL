{
 "cells": [
  {
   "cell_type": "code",
   "execution_count": null,
   "id": "122e7de9-92e5-4091-b043-0f0f21b4eb3f",
   "metadata": {},
   "outputs": [],
   "source": [
    "## Docker regulatory inference\n",
    "docker run -it -v /Users/jakobmaeots/Internship/Data:/data \\\n",
    "aertslab/pyscenic:0.11.0 \\\n",
    "pyscenic grn \\\n",
    "--num_workers 1 \\ \n",
    "--output /data/V2adj.tsv \\\n",
    "--method grnboost2 \\\n",
    "/data/V2Subset_filtered_scenic.loom \\\n",
    "/data/allTFs_hg38.txt #worked\n",
    "\n",
    "docker run -it --rm \\\n",
    "    -v /Users/jakobmaeots/Internship/Data:/data \\\n",
    "    aertslab/pyscenic:0.12.0 \\\n",
    "    pyscenic ctx \\\n",
    "    /data/V2adj.tsv \\\n",
    "    /data/hg38_10kbp_up_10kbp_down_full_tx_v10_clust.genes_vs_motifs.rankings.feather \\\n",
    "    --annotations_fname /data/motifs-v10nr_clust-nr.hgnc-m0.001-o0.0.tbl \\\n",
    "    --expression_mtx_fname /data/V2Subset_filtered_scenic.loom \\\n",
    "    --mode \"dask_multiprocessing\" \\\n",
    "    --output /data/V2reg.csv \\\n",
    "    --num_workers 1 \\\n",
    "    --mask_dropouts #worked\n",
    "\n",
    "docker run -it --rm \\\n",
    "    -v /Users/jakobmaeots/Internship/Data:/data \\\n",
    "    aertslab/pyscenic:0.12.0 \\\n",
    "    pyscenic aucell \\\n",
    "    /data/V2Subset_filtered_scenic.loom\\\n",
    "    /data/V2Reg.csv\\\n",
    "    --output /data/V2Subset_SCENIC.loom\\\n",
    "    --num_workers 5 #worked\n",
    "    \n"
   ]
  },
  {
   "cell_type": "code",
   "execution_count": null,
   "id": "48c9601c-9f00-4d71-aa01-842340bca733",
   "metadata": {},
   "outputs": [],
   "source": []
  }
 ],
 "metadata": {
  "kernelspec": {
   "display_name": "Python (scenic_env_310)",
   "language": "python",
   "name": "scenic_env"
  },
  "language_info": {
   "codemirror_mode": {
    "name": "ipython",
    "version": 3
   },
   "file_extension": ".py",
   "mimetype": "text/x-python",
   "name": "python",
   "nbconvert_exporter": "python",
   "pygments_lexer": "ipython3",
   "version": "3.10.13"
  }
 },
 "nbformat": 4,
 "nbformat_minor": 5
}
